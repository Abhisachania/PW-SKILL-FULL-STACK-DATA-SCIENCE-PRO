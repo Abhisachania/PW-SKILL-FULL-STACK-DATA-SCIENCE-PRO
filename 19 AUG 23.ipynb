{
 "cells": [
  {
   "cell_type": "markdown",
   "id": "5c7f13b0-d403-42c1-80bf-0e36bd643731",
   "metadata": {},
   "source": [
    "Q1.Declare two variables, `x` and `y`, and assign them integer values. Swap the\n",
    "values of these variables without using any temporary variable."
   ]
  },
  {
   "cell_type": "code",
   "execution_count": 3,
   "id": "9b2c62bc-aef5-47f0-8fa0-ca62f378ae22",
   "metadata": {},
   "outputs": [],
   "source": [
    "x=3\n",
    "y=6"
   ]
  },
  {
   "cell_type": "code",
   "execution_count": null,
   "id": "1781e0c9-61c9-4a9d-81a5-e5c02f985439",
   "metadata": {},
   "outputs": [],
   "source": [
    "## To take inputs from the user\n",
    "#x = input('Enter value of x: ')\n",
    "#y = input('Enter value of y: ')"
   ]
  },
  {
   "cell_type": "code",
   "execution_count": 5,
   "id": "906d2738-1659-47b6-8e82-c08046ee76ee",
   "metadata": {},
   "outputs": [],
   "source": [
    "## create a temporary variable and swap the values"
   ]
  },
  {
   "cell_type": "code",
   "execution_count": 6,
   "id": "83ce8f4a-145d-4378-afd5-0b97c6d06658",
   "metadata": {},
   "outputs": [],
   "source": [
    "temp = x\n",
    "x = y\n",
    "y = temp"
   ]
  },
  {
   "cell_type": "code",
   "execution_count": 7,
   "id": "74e3056f-0a23-406d-bcab-3621c02a1fb8",
   "metadata": {},
   "outputs": [
    {
     "name": "stdout",
     "output_type": "stream",
     "text": [
      "The value of x after swapping: 6\n",
      "The value of y after swapping: 3\n"
     ]
    }
   ],
   "source": [
    "print('The value of x after swapping: {}'.format(x))\n",
    "print('The value of y after swapping: {}'.format(y))"
   ]
  },
  {
   "cell_type": "markdown",
   "id": "217cd98f-9fed-4684-a81f-8b08c9434420",
   "metadata": {},
   "source": [
    "Q2.Create a program that calculates the area of a rectangle. Take the length and\n",
    "width as inputs from the user and store them in variables. Calculate and\n",
    "display the area."
   ]
  },
  {
   "cell_type": "code",
   "execution_count": 1,
   "id": "23215988-ac34-4529-8ca8-bc3eedd3353d",
   "metadata": {},
   "outputs": [],
   "source": [
    "# r means rectangle"
   ]
  },
  {
   "cell_type": "code",
   "execution_count": 3,
   "id": "38cffbd2-9ac9-46df-95ab-392ad8823e02",
   "metadata": {},
   "outputs": [
    {
     "name": "stdin",
     "output_type": "stream",
     "text": [
      "Enter the length= 14\n"
     ]
    }
   ],
   "source": [
    "r_length = int(input(\"Enter the length=\"))"
   ]
  },
  {
   "cell_type": "code",
   "execution_count": 4,
   "id": "0d065491-3129-40dd-b8ec-5003f73997e3",
   "metadata": {},
   "outputs": [
    {
     "name": "stdin",
     "output_type": "stream",
     "text": [
      "Enter the width= 4\n"
     ]
    }
   ],
   "source": [
    "r_width = int(input(\"Enter the width=\"))"
   ]
  },
  {
   "cell_type": "code",
   "execution_count": 6,
   "id": "d8b3fa4f-5118-47c5-b4ca-7f9c39df99b9",
   "metadata": {},
   "outputs": [
    {
     "name": "stdout",
     "output_type": "stream",
     "text": [
      "The area is  56\n"
     ]
    }
   ],
   "source": [
    "print(\"The area is \", r_area)"
   ]
  },
  {
   "cell_type": "markdown",
   "id": "07810f41-7662-47e7-9575-0fc4f2684a9b",
   "metadata": {},
   "source": [
    " Q3.Write a Python program that converts temperatures from Celsius to Fahrenheit. Take the temperature in Celsius as input, store it in a variable, convert it to Fahrenheit, and display the result."
   ]
  },
  {
   "cell_type": "code",
   "execution_count": 1,
   "id": "29ccecab-cb93-4858-9f47-8309e78d1f00",
   "metadata": {},
   "outputs": [
    {
     "name": "stdin",
     "output_type": "stream",
     "text": [
      "Enter the Temperature in Celsius :\n",
      " 42\n"
     ]
    }
   ],
   "source": [
    "celsius = int(input(\"Enter the Temperature in Celsius :\\n\"))"
   ]
  },
  {
   "cell_type": "code",
   "execution_count": 2,
   "id": "85d99448-cf66-4c3f-a233-db89a6f31c4d",
   "metadata": {},
   "outputs": [],
   "source": [
    "fahrenheit = (1.8 * celsius) + 32"
   ]
  },
  {
   "cell_type": "code",
   "execution_count": 3,
   "id": "335bbbe4-9887-44dd-a071-f9a42a4cab70",
   "metadata": {},
   "outputs": [
    {
     "name": "stdout",
     "output_type": "stream",
     "text": [
      "Temperature in Fahrenheit : 107.60000000000001\n"
     ]
    }
   ],
   "source": [
    "print(\"Temperature in Fahrenheit :\", fahrenheit)"
   ]
  },
  {
   "cell_type": "markdown",
   "id": "4ac9481a-a295-40c8-9537-1b679f0be113",
   "metadata": {},
   "source": [
    "String Questions"
   ]
  },
  {
   "cell_type": "markdown",
   "id": "c3912811-6214-4025-b0ba-53fa9bd0da24",
   "metadata": {},
   "source": [
    "Q1. Write a Python program that takes a string as input and prints the\n",
    "length of the string."
   ]
  },
  {
   "cell_type": "code",
   "execution_count": 1,
   "id": "60b07e6f-038e-4e14-9f97-403fc049d4e6",
   "metadata": {},
   "outputs": [
    {
     "name": "stdin",
     "output_type": "stream",
     "text": [
      "Enter a string:  PYTHON\n"
     ]
    },
    {
     "name": "stdout",
     "output_type": "stream",
     "text": [
      "Length of the string: 6\n"
     ]
    }
   ],
   "source": [
    "# Get input from the user\n",
    "user_input = input(\"Enter a string: \")\n",
    "# Calculate and print the length of the string\n",
    "string_length = len(user_input)\n",
    "print(\"Length of the string:\", string_length)"
   ]
  },
  {
   "cell_type": "code",
   "execution_count": null,
   "id": "176d0f95-274e-41af-809a-27c206450ee7",
   "metadata": {},
   "outputs": [],
   "source": [
    "Q2.Create a program that takes a sentence from the user and counts the number of vowels (a, e, i, o, u) in the string."
   ]
  },
  {
   "cell_type": "code",
   "execution_count": 3,
   "id": "d3ca98e8-29dd-4dc8-add5-708c230bab97",
   "metadata": {},
   "outputs": [
    {
     "name": "stdin",
     "output_type": "stream",
     "text": [
      "Enter a sentence:  ELEPTHANT\n"
     ]
    },
    {
     "name": "stdout",
     "output_type": "stream",
     "text": [
      "Number of vowels in the sentence: 3\n"
     ]
    }
   ],
   "source": [
    "# Get input from the user\n",
    "sentence = input(\"Enter a sentence: \")\n",
    "\n",
    "# Count the number of vowels using list comprehension\n",
    "vowel_count = sum(1 for char in sentence if char.lower() in \"aeiou\")\n",
    "\n",
    "# Print the result\n",
    "print(\"Number of vowels in the sentence:\", vowel_count)\n"
   ]
  },
  {
   "cell_type": "code",
   "execution_count": null,
   "id": "7e05b040-8a24-403e-8b96-533fdd5b0049",
   "metadata": {},
   "outputs": [],
   "source": [
    " Q3.Given a string, reverse the order of characters using string slicing and print the reversed string."
   ]
  },
  {
   "cell_type": "code",
   "execution_count": null,
   "id": "bc63a2a4-1ade-4966-a1bd-949a22eff38c",
   "metadata": {},
   "outputs": [
    {
     "name": "stdin",
     "output_type": "stream",
     "text": [
      "Enter a string:  MADAM\n"
     ]
    },
    {
     "name": "stdout",
     "output_type": "stream",
     "text": [
      "The entered string is a palindrome.\n"
     ]
    }
   ],
   "source": [
    "# Get input from the user\n",
    "input_string = input(\"Enter a string: \")\n",
    "\n",
    "# Remove spaces and convert to lowercase for case-insensitive comparison\n",
    "cleaned_string = input_string.replace(\" \", \"\").lower()\n",
    "\n",
    "# Check if the cleaned string is equal to its reverse\n",
    "is_palindrome = cleaned_string == cleaned_string[::-1]\n",
    "\n",
    "# Print the result\n",
    "if is_palindrome:\n",
    "    print(\"The entered string is a palindrome.\")\n",
    "else:\n",
    "    print(\"The entered string is not a palindrome.\")\n"
   ]
  },
  {
   "cell_type": "code",
   "execution_count": null,
   "id": "af38d5f6-3c51-4e0a-96e7-967d5a390ea0",
   "metadata": {},
   "outputs": [],
   "source": [
    "Q4.Write a program that takes a string as input and checks if it is a palindrome (reads the same forwards and backwards)."
   ]
  },
  {
   "cell_type": "code",
   "execution_count": null,
   "id": "21b64c04-b788-489e-98ea-63276fb87eba",
   "metadata": {},
   "outputs": [
    {
     "name": "stdin",
     "output_type": "stream",
     "text": [
      "Enter a string:  DEXTER\n"
     ]
    },
    {
     "name": "stdout",
     "output_type": "stream",
     "text": [
      "Reversed string: RETXED\n"
     ]
    }
   ],
   "source": [
    "# Get input from the user\n",
    "original_string = input(\"Enter a string: \")\n",
    "\n",
    "# Reverse the string using slicing\n",
    "reversed_string = original_string[::-1]\n",
    "\n",
    "# Print the reversed string\n",
    "print(\"Reversed string:\", reversed_string)\n"
   ]
  },
  {
   "cell_type": "code",
   "execution_count": null,
   "id": "f9f501cd-183f-4ad9-b76c-690b487dd972",
   "metadata": {},
   "outputs": [],
   "source": [
    "Q5.Create a program that takes a string as input and removes all the spaces from it. Print the modified string without spaces."
   ]
  },
  {
   "cell_type": "code",
   "execution_count": 6,
   "id": "eb4cac11-ff17-46ff-b192-e6c6a8c6a66a",
   "metadata": {},
   "outputs": [
    {
     "name": "stdin",
     "output_type": "stream",
     "text": [
      "Enter a string:  MOB IB LE\n"
     ]
    },
    {
     "name": "stdout",
     "output_type": "stream",
     "text": [
      "Modified string without spaces: MOBIBLE\n"
     ]
    }
   ],
   "source": [
    "# Get input from the user\n",
    "input_string = input(\"Enter a string: \")\n",
    "\n",
    "# Remove spaces from the string\n",
    "modified_string = input_string.replace(\" \", \"\")\n",
    "\n",
    "# Print the modified string without spaces\n",
    "print(\"Modified string without spaces:\", modified_string)\n"
   ]
  },
  {
   "cell_type": "code",
   "execution_count": null,
   "id": "e4ba3f77-fff2-4042-bf28-7cd045ac6f26",
   "metadata": {},
   "outputs": [],
   "source": []
  }
 ],
 "metadata": {
  "kernelspec": {
   "display_name": "Python 3 (ipykernel)",
   "language": "python",
   "name": "python3"
  },
  "language_info": {
   "codemirror_mode": {
    "name": "ipython",
    "version": 3
   },
   "file_extension": ".py",
   "mimetype": "text/x-python",
   "name": "python",
   "nbconvert_exporter": "python",
   "pygments_lexer": "ipython3",
   "version": "3.10.8"
  }
 },
 "nbformat": 4,
 "nbformat_minor": 5
}
